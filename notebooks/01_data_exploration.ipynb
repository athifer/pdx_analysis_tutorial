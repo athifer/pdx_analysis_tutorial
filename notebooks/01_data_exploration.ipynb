{
 "cells": [
  {
   "cell_type": "markdown",
   "id": "2bcc93bd",
   "metadata": {},
   "source": [
    "# PDX Analysis Tutorial - Data Exploration\n",
    "\n",
    "This notebook provides a comprehensive exploration of Patient-Derived Xenograft (PDX) datasets including tumor volumes, gene expression, and genomic variants.\n",
    "\n",
    "## Learning Objectives\n",
    "- Load and examine PDX datasets\n",
    "- Perform quality control checks\n",
    "- Generate descriptive statistics\n",
    "- Create initial visualizations\n",
    "- Identify data patterns and potential issues\n",
    "\n",
    "## Prerequisites\n",
    "- Python 3.7+\n",
    "- pandas, numpy, matplotlib, seaborn\n",
    "- Basic understanding of PDX research"
   ]
  }
 ],
 "metadata": {
  "language_info": {
   "name": "python"
  }
 },
 "nbformat": 4,
 "nbformat_minor": 5
}
